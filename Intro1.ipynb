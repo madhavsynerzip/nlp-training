{
 "cells": [
  {
   "cell_type": "markdown",
   "metadata": {},
   "source": [
    "# Contents\n",
    "\n",
    "1. Corpus\n",
    "2. Load Corpus using Pandas\n",
    "3. Access data using Pandas dataframe\n",
    "4. Text Pre-processing\n",
    "5. Intro to SpaCy and language processing tasks"
   ]
  },
  {
   "cell_type": "markdown",
   "metadata": {},
   "source": [
    "# Corpus\n",
    "\n",
    "A collection of text. Specifically refers to the data to be analyzed."
   ]
  },
  {
   "cell_type": "code",
   "execution_count": 2,
   "metadata": {},
   "outputs": [
    {
     "name": "stdout",
     "output_type": "stream",
     "text": [
      "labeledTrainData.tsv  testData.tsv  unlabeledTrainData.tsv\r\n"
     ]
    }
   ],
   "source": [
    "!ls data/"
   ]
  },
  {
   "cell_type": "code",
   "execution_count": 3,
   "metadata": {},
   "outputs": [
    {
     "name": "stdout",
     "output_type": "stream",
     "text": [
      "25001 data/labeledTrainData.tsv\n",
      "25001 data/testData.tsv\n",
      "50001 data/unlabeledTrainData.tsv\n"
     ]
    }
   ],
   "source": [
    "!wc -l data/labeledTrainData.tsv\n",
    "!wc -l data/testData.tsv\n",
    "!wc -l data/unlabeledTrainData.tsv"
   ]
  },
  {
   "cell_type": "code",
   "execution_count": 4,
   "metadata": {},
   "outputs": [
    {
     "name": "stdout",
     "output_type": "stream",
     "text": [
      "id\tsentiment\treview\r\n",
      "\"5814_8\"\t1\t\"With all this stuff going down at the moment with MJ i've started listening to his music, watching the odd documentary here and there, watched The Wiz and watched Moonwalker again. Maybe i just want to get a certain insight into this guy who i thought was really cool in the eighties just to maybe make up my mind whether he is guilty or innocent. Moonwalker is part biography, part feature film which i remember going to see at the cinema when it was originally released. Some of it has subtle messages about MJ's feeling towards the press and also the obvious message of drugs are bad m'kay.<br /><br />Visually impressive but of course this is all about Michael Jackson so unless you remotely like MJ in anyway then you are going to hate this and find it boring. Some may call MJ an egotist for consenting to the making of this movie BUT MJ and most of his fans would say that he made it for the fans which if true is really nice of him.<br /><br />The actual feature film bit when it finally starts is only on for 20 minutes or so excluding the Smooth Criminal sequence and Joe Pesci is convincing as a psychopathic all powerful drug lord. Why he wants MJ dead so bad is beyond me. Because MJ overheard his plans? Nah, Joe Pesci's character ranted that he wanted people to know it is he who is supplying drugs etc so i dunno, maybe he just hates MJ's music.<br /><br />Lots of cool things in this like MJ turning into a car and a robot and the whole Speed Demon sequence. Also, the director must have had the patience of a saint when it came to filming the kiddy Bad sequence as usually directors hate working with one kid let alone a whole bunch of them performing a complex dance scene.<br /><br />Bottom line, this movie is for people who like MJ on one level or another (which i think is most people). If not, then stay away. It does try and give off a wholesome message and ironically MJ's bestest buddy in this movie is a girl! Michael Jackson is truly one of the most talented people ever to grace this planet but is he guilty? Well, with all the attention i've gave this subject....hmmm well i don't know because people can be different behind closed doors, i know this for a fact. He is either an extremely nice but stupid guy or one of the most sickest liars. I hope he is not the latter.\"\r\n"
     ]
    }
   ],
   "source": [
    "!head -n 2 data/labeledTrainData.tsv"
   ]
  },
  {
   "cell_type": "code",
   "execution_count": 5,
   "metadata": {},
   "outputs": [
    {
     "name": "stdout",
     "output_type": "stream",
     "text": [
      "id\treview\r\n",
      "\"12311_10\"\t\"Naturally in a film who's main themes are of mortality, nostalgia, and loss of innocence it is perhaps not surprising that it is rated more highly by older viewers than younger ones. However there is a craftsmanship and completeness to the film which anyone can enjoy. The pace is steady and constant, the characters full and engaging, the relationships and interactions natural showing that you do not need floods of tears to show emotion, screams to show fear, shouting to show dispute or violence to show anger. Naturally Joyce's short story lends the film a ready made structure as perfect as a polished diamond, but the small changes Huston makes such as the inclusion of the poem fit in neatly. It is truly a masterpiece of tact, subtlety and overwhelming beauty.\"\r\n"
     ]
    }
   ],
   "source": [
    "!head -n 2 data/testData.tsv"
   ]
  },
  {
   "cell_type": "code",
   "execution_count": 6,
   "metadata": {},
   "outputs": [
    {
     "name": "stdout",
     "output_type": "stream",
     "text": [
      "id\treview\r\n",
      "\"9999_0\"\t\"Watching Time Chasers, it obvious that it was made by a bunch of friends. Maybe they were sitting around one day in film school and said, \\\"Hey, let's pool our money together and make a really bad movie!\\\" Or something like that. What ever they said, they still ended up making a really bad movie--dull story, bad script, lame acting, poor cinematography, bottom of the barrel stock music, etc. All corners were cut, except the one that would have prevented this film's release. Life's like that.\"\r\n"
     ]
    }
   ],
   "source": [
    "!head -n 2 data/unlabeledTrainData.tsv"
   ]
  },
  {
   "cell_type": "markdown",
   "metadata": {},
   "source": [
    "# What is labeled data/Unlabeled data/test data?\n",
    "\n",
    "Labels - In ML/NLP terminology, The independent variable which needs to be predicted.<br>\n",
    "Labeld data/train data - Data for which the final outcome labels are defined.<br>\n",
    "unlabeled data - Data for which the outcome to be predicted is not available.<br>\n",
    "test data - Data for which the hypothesis can be tested."
   ]
  },
  {
   "cell_type": "markdown",
   "metadata": {},
   "source": [
    "# Let's load the data into memory using pandas library.<br> \n",
    "Pandas is a pyhton package useful in doing data analysis on structured or labeled data"
   ]
  },
  {
   "cell_type": "code",
   "execution_count": 7,
   "metadata": {},
   "outputs": [],
   "source": [
    "import pandas as pd"
   ]
  },
  {
   "cell_type": "code",
   "execution_count": 8,
   "metadata": {},
   "outputs": [],
   "source": [
    "data_dir = 'data/'"
   ]
  },
  {
   "cell_type": "code",
   "execution_count": 55,
   "metadata": {},
   "outputs": [],
   "source": [
    "df_train = pd.read_csv(data_dir + 'labeledTrainData.tsv', sep=\"\\t\")"
   ]
  },
  {
   "cell_type": "code",
   "execution_count": 10,
   "metadata": {},
   "outputs": [
    {
     "data": {
      "text/plain": [
       "(25000, 3)"
      ]
     },
     "execution_count": 10,
     "metadata": {},
     "output_type": "execute_result"
    }
   ],
   "source": [
    "df_train.shape"
   ]
  },
  {
   "cell_type": "code",
   "execution_count": 11,
   "metadata": {},
   "outputs": [
    {
     "data": {
      "text/plain": [
       "Index(['id', 'sentiment', 'review'], dtype='object')"
      ]
     },
     "execution_count": 11,
     "metadata": {},
     "output_type": "execute_result"
    }
   ],
   "source": [
    "df_train.columns"
   ]
  },
  {
   "cell_type": "markdown",
   "metadata": {},
   "source": [
    "# How to access data using data frames\n",
    "\n",
    "Selection with [], .loc and .iloc"
   ]
  },
  {
   "cell_type": "code",
   "execution_count": 56,
   "metadata": {},
   "outputs": [
    {
     "data": {
      "text/plain": [
       "(pandas.core.series.Series, (25000,))"
      ]
     },
     "execution_count": 56,
     "metadata": {},
     "output_type": "execute_result"
    }
   ],
   "source": [
    "# Directly access using column name. Gives Pandas series (list like)\n",
    "\n",
    "reviews=df_train['review']\n",
    "(type(reviews), reviews.shape)"
   ]
  },
  {
   "cell_type": "code",
   "execution_count": 57,
   "metadata": {},
   "outputs": [
    {
     "data": {
      "text/plain": [
       "(pandas.core.series.Series, (25000,))"
      ]
     },
     "execution_count": 57,
     "metadata": {},
     "output_type": "execute_result"
    }
   ],
   "source": [
    "#.loc can select subsets of rows and/or columns. Only selects data by the LABEL of the rows and columns.\n",
    "#df_train.loc[row,column]\n",
    "reviews = df_train.loc[:,'review']\n",
    "(type(reviews), reviews.shape)"
   ]
  },
  {
   "cell_type": "code",
   "execution_count": 58,
   "metadata": {},
   "outputs": [
    {
     "name": "stdout",
     "output_type": "stream",
     "text": [
      "(<class 'pandas.core.frame.DataFrame'>, (25000, 2))\n",
      "(<class 'pandas.core.frame.DataFrame'>, (6, 2))\n"
     ]
    }
   ],
   "source": [
    "reviews = df_train.loc[:,['review', 'id']]\n",
    "print((type(reviews), reviews.shape))\n",
    "\n",
    "reviews = df_train.loc[0:5,['review', 'id']]\n",
    "print((type(reviews), reviews.shape))"
   ]
  },
  {
   "cell_type": "code",
   "execution_count": 59,
   "metadata": {},
   "outputs": [
    {
     "data": {
      "text/html": [
       "<div>\n",
       "<style scoped>\n",
       "    .dataframe tbody tr th:only-of-type {\n",
       "        vertical-align: middle;\n",
       "    }\n",
       "\n",
       "    .dataframe tbody tr th {\n",
       "        vertical-align: top;\n",
       "    }\n",
       "\n",
       "    .dataframe thead th {\n",
       "        text-align: right;\n",
       "    }\n",
       "</style>\n",
       "<table border=\"1\" class=\"dataframe\">\n",
       "  <thead>\n",
       "    <tr style=\"text-align: right;\">\n",
       "      <th></th>\n",
       "      <th>review</th>\n",
       "      <th>id</th>\n",
       "    </tr>\n",
       "  </thead>\n",
       "  <tbody>\n",
       "    <tr>\n",
       "      <th>0</th>\n",
       "      <td>With all this stuff going down at the moment w...</td>\n",
       "      <td>5814_8</td>\n",
       "    </tr>\n",
       "    <tr>\n",
       "      <th>1</th>\n",
       "      <td>\\The Classic War of the Worlds\\\" by Timothy Hi...</td>\n",
       "      <td>2381_9</td>\n",
       "    </tr>\n",
       "    <tr>\n",
       "      <th>2</th>\n",
       "      <td>The film starts with a manager (Nicholas Bell)...</td>\n",
       "      <td>7759_3</td>\n",
       "    </tr>\n",
       "    <tr>\n",
       "      <th>3</th>\n",
       "      <td>It must be assumed that those who praised this...</td>\n",
       "      <td>3630_4</td>\n",
       "    </tr>\n",
       "    <tr>\n",
       "      <th>4</th>\n",
       "      <td>Superbly trashy and wondrously unpretentious 8...</td>\n",
       "      <td>9495_8</td>\n",
       "    </tr>\n",
       "    <tr>\n",
       "      <th>5</th>\n",
       "      <td>I dont know why people think this is such a ba...</td>\n",
       "      <td>8196_8</td>\n",
       "    </tr>\n",
       "  </tbody>\n",
       "</table>\n",
       "</div>"
      ],
      "text/plain": [
       "                                              review      id\n",
       "0  With all this stuff going down at the moment w...  5814_8\n",
       "1  \\The Classic War of the Worlds\\\" by Timothy Hi...  2381_9\n",
       "2  The film starts with a manager (Nicholas Bell)...  7759_3\n",
       "3  It must be assumed that those who praised this...  3630_4\n",
       "4  Superbly trashy and wondrously unpretentious 8...  9495_8\n",
       "5  I dont know why people think this is such a ba...  8196_8"
      ]
     },
     "execution_count": 59,
     "metadata": {},
     "output_type": "execute_result"
    }
   ],
   "source": [
    "reviews"
   ]
  },
  {
   "cell_type": "code",
   "execution_count": 17,
   "metadata": {},
   "outputs": [
    {
     "name": "stdout",
     "output_type": "stream",
     "text": [
      "(3, 3)\n",
      "(3,)\n"
     ]
    }
   ],
   "source": [
    "# .iloc is very similar to .loc but only uses integer locations to make its selections.\n",
    "r = df_train.iloc[0:3]\n",
    "print(r.shape)\n",
    "\n",
    "r = df_train.iloc[0:3, 1]\n",
    "print(r.shape)"
   ]
  },
  {
   "cell_type": "code",
   "execution_count": 18,
   "metadata": {},
   "outputs": [
    {
     "data": {
      "text/plain": [
       "\"With all this stuff going down at the moment with MJ i've started listening to his music, watching the odd documentary here and there, watched The Wiz and watched Moonwalker again. Maybe i just want to get a certain insight into this guy who i thought was really cool in the eighties just to maybe make up my mind whether he is guilty or innocent. Moonwalker is part biography, part feature film which i remember going to see at the cinema when it was originally released. Some of it has subtle messages about MJ's feeling towards the press and also the obvious message of drugs are bad m'kay.<br /><br />Visually impressive but of course this is all about Michael Jackson so unless you remotely like MJ in anyway then you are going to hate this and find it boring. Some may call MJ an egotist for consenting to the making of this movie BUT MJ and most of his fans would say that he made it for the fans which if true is really nice of him.<br /><br />The actual feature film bit when it finally starts is only on for 20 minutes or so excluding the Smooth Criminal sequence and Joe Pesci is convincing as a psychopathic all powerful drug lord. Why he wants MJ dead so bad is beyond me. Because MJ overheard his plans? Nah, Joe Pesci's character ranted that he wanted people to know it is he who is supplying drugs etc so i dunno, maybe he just hates MJ's music.<br /><br />Lots of cool things in this like MJ turning into a car and a robot and the whole Speed Demon sequence. Also, the director must have had the patience of a saint when it came to filming the kiddy Bad sequence as usually directors hate working with one kid let alone a whole bunch of them performing a complex dance scene.<br /><br />Bottom line, this movie is for people who like MJ on one level or another (which i think is most people). If not, then stay away. It does try and give off a wholesome message and ironically MJ's bestest buddy in this movie is a girl! Michael Jackson is truly one of the most talented people ever to grace this planet but is he guilty? Well, with all the attention i've gave this subject....hmmm well i don't know because people can be different behind closed doors, i know this for a fact. He is either an extremely nice but stupid guy or one of the most sickest liars. I hope he is not the latter.\""
      ]
     },
     "execution_count": 18,
     "metadata": {},
     "output_type": "execute_result"
    }
   ],
   "source": [
    "df_train['review'][0]"
   ]
  },
  {
   "cell_type": "markdown",
   "metadata": {},
   "source": [
    "Lets see how pandas dataframe can be used to perform some data analysis"
   ]
  },
  {
   "cell_type": "code",
   "execution_count": 60,
   "metadata": {},
   "outputs": [
    {
     "data": {
      "text/plain": [
       "1    12500\n",
       "0    12500\n",
       "Name: sentiment, dtype: int64"
      ]
     },
     "execution_count": 60,
     "metadata": {},
     "output_type": "execute_result"
    }
   ],
   "source": [
    "#how many positive & negative reviews are present\n",
    "df_train['sentiment'].value_counts()"
   ]
  },
  {
   "cell_type": "code",
   "execution_count": 20,
   "metadata": {},
   "outputs": [
    {
     "name": "stdout",
     "output_type": "stream",
     "text": [
      "(12500,)\n"
     ]
    }
   ],
   "source": [
    "#seggrate the reviews based on Sentiment\n",
    "pos_reviews=df_train['review'][df_train['sentiment']==1]\n",
    "print(pos_reviews.shape)"
   ]
  },
  {
   "cell_type": "code",
   "execution_count": 21,
   "metadata": {},
   "outputs": [
    {
     "data": {
      "text/plain": [
       "'\\\\The Classic War of the Worlds\\\\\" by Timothy Hines is a very entertaining film that obviously goes to great effort and lengths to faithfully recreate H. G. Wells\\' classic book. Mr. Hines succeeds in doing so. I, and those who watched his film with me, appreciated the fact that it was not the standard, predictable Hollywood fare that comes out every year, e.g. the Spielberg version with Tom Cruise that had only the slightest resemblance to the book. Obviously, everyone looks for different things in a movie. Those who envision themselves as amateur \\\\\"critics\\\\\" look only to criticize everything they can. Others rate a movie on more important bases,like being entertained, which is why most people never agree with the \\\\\"critics\\\\\". We enjoyed the effort Mr. Hines put into being faithful to H.G. Wells\\' classic novel, and we found it to be very entertaining. This made it easy to overlook what the \\\\\"critics\\\\\" perceive to be its shortcomings.\"'"
      ]
     },
     "execution_count": 21,
     "metadata": {},
     "output_type": "execute_result"
    }
   ],
   "source": [
    "pos_reviews[1]"
   ]
  },
  {
   "cell_type": "markdown",
   "metadata": {},
   "source": [
    "\n",
    "\n"
   ]
  },
  {
   "cell_type": "markdown",
   "metadata": {},
   "source": [
    "# Text Preprocessing\n",
    "\n",
    "Pre-processing is the task of preparing the text before it is given to any process to perform analysis/calculations. Some of the standard text preprocessing steps (depending upon the task at hand) are\n",
    "\n",
    "1. Converting all letters to lower or upper case (text normalization)\n",
    "2. Removing special characters like punctuations, accent marks etc.\n",
    "3. Removing white spaces and stop words\n",
    "4. Removing garbal characters like tags etc.\n",
    "5. Removing numbers (Maybe?)"
   ]
  },
  {
   "cell_type": "code",
   "execution_count": 23,
   "metadata": {},
   "outputs": [
    {
     "name": "stdout",
     "output_type": "stream",
     "text": [
      "\\the classic war of the worlds\\\" by timothy hines is a very entertaining film that obviously goes to great effort and lengths to faithfully recreate h. g. wells' classic book. mr. hines succeeds in doing so. i, and those who watched his film with me, appreciated the fact that it was not the standard, predictable hollywood fare that comes out every year, e.g. the spielberg version with tom cruise that had only the slightest resemblance to the book. obviously, everyone looks for different things in a movie. those who envision themselves as amateur \\\"critics\\\" look only to criticize everything they can. others rate a movie on more important bases,like being entertained, which is why most people never agree with the \\\"critics\\\". we enjoyed the effort mr. hines put into being faithful to h.g. wells' classic novel, and we found it to be very entertaining. this made it easy to overlook what the \\\"critics\\\" perceive to be its shortcomings.\"\n"
     ]
    }
   ],
   "source": [
    "# Why do case conversion? Treat same words having different cases to be same\n",
    "\n",
    "lc=pos_reviews[1].lower()\n",
    "print(lc)"
   ]
  },
  {
   "cell_type": "code",
   "execution_count": 24,
   "metadata": {},
   "outputs": [
    {
     "name": "stdout",
     "output_type": "stream",
     "text": [
      "\\the classic war of the worlds\\ by timothy hines is a very entertaining film that obviously goes to great effort and lengths to faithfully recreate h. g. wells' classic book. mr. hines succeeds in doing so. i, and those who watched his film with me, appreciated the fact that it was not the standard, predictable hollywood fare that comes out every year, e.g. the spielberg version with tom cruise that had only the slightest resemblance to the book. obviously, everyone looks for different things in a movie. those who envision themselves as amateur \\critics\\ look only to criticize everything they can. others rate a movie on more important bases,like being entertained, which is why most people never agree with the \\critics\\. we enjoyed the effort mr. hines put into being faithful to h.g. wells' classic novel, and we found it to be very entertaining. this made it easy to overlook what the \\critics\\ perceive to be its shortcomings.\n"
     ]
    }
   ],
   "source": [
    "#Removing Special Characters using Regular Expressions\n",
    "\n",
    "import re\n",
    "\n",
    "lc=re.sub('\\\"','', lc)\n",
    "print(lc)"
   ]
  },
  {
   "cell_type": "code",
   "execution_count": 28,
   "metadata": {},
   "outputs": [
    {
     "name": "stdout",
     "output_type": "stream",
     "text": [
      "the classic war of the worlds by timothy hines is a very entertaining film that obviously goes to great effort and lengths to faithfully recreate h. g. wells' classic book. mr. hines succeeds in doing so. i, and those who watched his film with me, appreciated the fact that it was not the standard, predictable hollywood fare that comes out every year, e.g. the spielberg version with tom cruise that had only the slightest resemblance to the book. obviously, everyone looks for different things in a movie. those who envision themselves as amateur critics look only to criticize everything they can. others rate a movie on more important bases,like being entertained, which is why most people never agree with the critics. we enjoyed the effort mr. hines put into being faithful to h.g. wells' classic novel, and we found it to be very entertaining. this made it easy to overlook what the critics perceive to be its shortcomings.\n"
     ]
    }
   ],
   "source": [
    "lc=re.sub('\\\\\\\\','', lc)\n",
    "print(lc)"
   ]
  },
  {
   "cell_type": "code",
   "execution_count": 29,
   "metadata": {},
   "outputs": [
    {
     "data": {
      "text/plain": [
       "\"With all this stuff going down at the moment with MJ i've started listening to his music, watching the odd documentary here and there, watched The Wiz and watched Moonwalker again. Maybe i just want to get a certain insight into this guy who i thought was really cool in the eighties just to maybe make up my mind whether he is guilty or innocent. Moonwalker is part biography, part feature film which i remember going to see at the cinema when it was originally released. Some of it has subtle messages about MJ's feeling towards the press and also the obvious message of drugs are bad m'kay.<br /><br />Visually impressive but of course this is all about Michael Jackson so unless you remotely like MJ in anyway then you are going to hate this and find it boring. Some may call MJ an egotist for consenting to the making of this movie BUT MJ and most of his fans would say that he made it for the fans which if true is really nice of him.<br /><br />The actual feature film bit when it finally starts is only on for 20 minutes or so excluding the Smooth Criminal sequence and Joe Pesci is convincing as a psychopathic all powerful drug lord. Why he wants MJ dead so bad is beyond me. Because MJ overheard his plans? Nah, Joe Pesci's character ranted that he wanted people to know it is he who is supplying drugs etc so i dunno, maybe he just hates MJ's music.<br /><br />Lots of cool things in this like MJ turning into a car and a robot and the whole Speed Demon sequence. Also, the director must have had the patience of a saint when it came to filming the kiddy Bad sequence as usually directors hate working with one kid let alone a whole bunch of them performing a complex dance scene.<br /><br />Bottom line, this movie is for people who like MJ on one level or another (which i think is most people). If not, then stay away. It does try and give off a wholesome message and ironically MJ's bestest buddy in this movie is a girl! Michael Jackson is truly one of the most talented people ever to grace this planet but is he guilty? Well, with all the attention i've gave this subject....hmmm well i don't know because people can be different behind closed doors, i know this for a fact. He is either an extremely nice but stupid guy or one of the most sickest liars. I hope he is not the latter.\""
      ]
     },
     "execution_count": 29,
     "metadata": {},
     "output_type": "execute_result"
    }
   ],
   "source": [
    "#HTML tags\n",
    "\n",
    "pos_reviews[0]"
   ]
  },
  {
   "cell_type": "markdown",
   "metadata": {},
   "source": [
    "# Removing HTML Markup from text\n",
    "\n",
    "BeautifulSoup Package can be used for text cleaning"
   ]
  },
  {
   "cell_type": "code",
   "execution_count": 30,
   "metadata": {},
   "outputs": [],
   "source": [
    "from bs4 import BeautifulSoup"
   ]
  },
  {
   "cell_type": "code",
   "execution_count": 31,
   "metadata": {},
   "outputs": [
    {
     "data": {
      "text/plain": [
       "\"With all this stuff going down at the moment with MJ i've started listening to his music, watching the odd documentary here and there, watched The Wiz and watched Moonwalker again. Maybe i just want to get a certain insight into this guy who i thought was really cool in the eighties just to maybe make up my mind whether he is guilty or innocent. Moonwalker is part biography, part feature film which i remember going to see at the cinema when it was originally released. Some of it has subtle messages about MJ's feeling towards the press and also the obvious message of drugs are bad m'kay.Visually impressive but of course this is all about Michael Jackson so unless you remotely like MJ in anyway then you are going to hate this and find it boring. Some may call MJ an egotist for consenting to the making of this movie BUT MJ and most of his fans would say that he made it for the fans which if true is really nice of him.The actual feature film bit when it finally starts is only on for 20 minutes or so excluding the Smooth Criminal sequence and Joe Pesci is convincing as a psychopathic all powerful drug lord. Why he wants MJ dead so bad is beyond me. Because MJ overheard his plans? Nah, Joe Pesci's character ranted that he wanted people to know it is he who is supplying drugs etc so i dunno, maybe he just hates MJ's music.Lots of cool things in this like MJ turning into a car and a robot and the whole Speed Demon sequence. Also, the director must have had the patience of a saint when it came to filming the kiddy Bad sequence as usually directors hate working with one kid let alone a whole bunch of them performing a complex dance scene.Bottom line, this movie is for people who like MJ on one level or another (which i think is most people). If not, then stay away. It does try and give off a wholesome message and ironically MJ's bestest buddy in this movie is a girl! Michael Jackson is truly one of the most talented people ever to grace this planet but is he guilty? Well, with all the attention i've gave this subject....hmmm well i don't know because people can be different behind closed doors, i know this for a fact. He is either an extremely nice but stupid guy or one of the most sickest liars. I hope he is not the latter.\""
      ]
     },
     "execution_count": 31,
     "metadata": {},
     "output_type": "execute_result"
    }
   ],
   "source": [
    "BeautifulSoup(pos_reviews[0], \"lxml\").get_text()"
   ]
  },
  {
   "cell_type": "markdown",
   "metadata": {},
   "source": [
    "# Combine all preprocessing steps"
   ]
  },
  {
   "cell_type": "code",
   "execution_count": 61,
   "metadata": {},
   "outputs": [],
   "source": [
    "## Add all preprocessing steps here\n",
    "def preproc(line):\n",
    "    text = BeautifulSoup(line, \"lxml\").get_text()\n",
    "    return re.sub(\"[\\\"\\\\\\\\]\",\"\", text)"
   ]
  },
  {
   "cell_type": "code",
   "execution_count": 62,
   "metadata": {},
   "outputs": [],
   "source": [
    "sanitizied_rev=df_train['review'].apply(preproc)"
   ]
  },
  {
   "cell_type": "code",
   "execution_count": 47,
   "metadata": {},
   "outputs": [],
   "source": [
    "df_train['review']=sanitizied_rev"
   ]
  },
  {
   "cell_type": "markdown",
   "metadata": {},
   "source": [
    "# Intoduction to SpaCy\n",
    "\n",
    "1. Fast & reliable language parsing\n",
    "2. Written in Cython\n",
    "3. Sentence Segmentation\n",
    "4. Tokenization\n",
    "5. Part of Speech Tagging\n",
    "6. Named Entity Recognition\n",
    "7. Dependency Parsing\n",
    "\n",
    "# Install Spacy\n",
    "\n",
    "pip install -U spacy\n",
    "\n",
    "DOWNLOAD MODELS\n",
    "\n",
    "After installation, download model of the language you want to process text of, with SpaCy\n",
    "\n",
    "python -m spacy download en"
   ]
  },
  {
   "cell_type": "code",
   "execution_count": null,
   "metadata": {},
   "outputs": [],
   "source": [
    "#! pip install -U spacy\n",
    "#! python -m spacy download en"
   ]
  },
  {
   "cell_type": "code",
   "execution_count": 48,
   "metadata": {},
   "outputs": [],
   "source": [
    "#import spacy\n",
    "\n",
    "import spacy\n",
    "nlp = spacy.load('en')"
   ]
  },
  {
   "cell_type": "code",
   "execution_count": 63,
   "metadata": {},
   "outputs": [
    {
     "data": {
      "text/plain": [
       "\"The Classic War of the Worlds by Timothy Hines is a very entertaining film that obviously goes to great effort and lengths to faithfully recreate H. G. Wells' classic book. Mr. Hines succeeds in doing so. I, and those who watched his film with me, appreciated the fact that it was not the standard, predictable Hollywood fare that comes out every year, e.g. the Spielberg version with Tom Cruise that had only the slightest resemblance to the book. Obviously, everyone looks for different things in a movie. Those who envision themselves as amateur critics look only to criticize everything they can. Others rate a movie on more important bases,like being entertained, which is why most people never agree with the critics. We enjoyed the effort Mr. Hines put into being faithful to H.G. Wells' classic novel, and we found it to be very entertaining. This made it easy to overlook what the critics perceive to be its shortcomings.\""
      ]
     },
     "execution_count": 63,
     "metadata": {},
     "output_type": "execute_result"
    }
   ],
   "source": [
    "\n",
    "sanitizied_rev[1]"
   ]
  },
  {
   "cell_type": "markdown",
   "metadata": {},
   "source": [
    "# Sentence Segmentation\n",
    "\n",
    "Breaking piece of text/document in to logical sentences."
   ]
  },
  {
   "cell_type": "code",
   "execution_count": 71,
   "metadata": {},
   "outputs": [],
   "source": [
    "doc=nlp(sanitizied_rev[1])"
   ]
  },
  {
   "cell_type": "code",
   "execution_count": 72,
   "metadata": {},
   "outputs": [
    {
     "name": "stdout",
     "output_type": "stream",
     "text": [
      "The Classic War of the Worlds by Timothy Hines is a very entertaining film that obviously goes to great effort and lengths to faithfully recreate H. G. Wells' classic book.\n",
      "Mr. Hines succeeds in doing so.\n",
      "I, and those who watched his film with me, appreciated the fact that it was not the standard, predictable Hollywood fare that comes out every year, e.g. the Spielberg version with Tom Cruise that had only the slightest resemblance to the book.\n",
      "Obviously, everyone looks for different things in a movie.\n",
      "Those who envision themselves as amateur critics look only to criticize everything they can.\n",
      "Others rate a movie on more important bases,like being entertained, which is why most people never agree with the critics.\n",
      "We enjoyed the effort Mr. Hines put into being faithful to H.G. Wells' classic novel, and we found it to be very entertaining.\n",
      "This made it easy to overlook what the critics perceive to be its shortcomings.\n"
     ]
    }
   ],
   "source": [
    "for sent in doc.sents:\n",
    "    print(sent.text)"
   ]
  },
  {
   "cell_type": "markdown",
   "metadata": {},
   "source": [
    "# Tokenization\n",
    "\n",
    "Also known as chunking. It is the process of breaking text into chunks of words also called tokens."
   ]
  },
  {
   "cell_type": "code",
   "execution_count": 74,
   "metadata": {},
   "outputs": [],
   "source": [
    "sentList=[]\n",
    "for sent in doc.sents:\n",
    "    wordList=[]\n",
    "    for word in sent:\n",
    "        wordList.append(word.text)\n",
    "    sentList.append(wordList)"
   ]
  },
  {
   "cell_type": "code",
   "execution_count": 75,
   "metadata": {},
   "outputs": [
    {
     "name": "stdout",
     "output_type": "stream",
     "text": [
      "['The', 'Classic', 'War', 'of', 'the', 'Worlds', 'by', 'Timothy', 'Hines', 'is', 'a', 'very', 'entertaining', 'film', 'that', 'obviously', 'goes', 'to', 'great', 'effort', 'and', 'lengths', 'to', 'faithfully', 'recreate', 'H.', 'G.', 'Wells', \"'\", 'classic', 'book', '.']\n",
      "['Mr.', 'Hines', 'succeeds', 'in', 'doing', 'so', '.']\n",
      "['I', ',', 'and', 'those', 'who', 'watched', 'his', 'film', 'with', 'me', ',', 'appreciated', 'the', 'fact', 'that', 'it', 'was', 'not', 'the', 'standard', ',', 'predictable', 'Hollywood', 'fare', 'that', 'comes', 'out', 'every', 'year', ',', 'e.g.', 'the', 'Spielberg', 'version', 'with', 'Tom', 'Cruise', 'that', 'had', 'only', 'the', 'slightest', 'resemblance', 'to', 'the', 'book', '.']\n",
      "['Obviously', ',', 'everyone', 'looks', 'for', 'different', 'things', 'in', 'a', 'movie', '.']\n",
      "['Those', 'who', 'envision', 'themselves', 'as', 'amateur', 'critics', 'look', 'only', 'to', 'criticize', 'everything', 'they', 'can', '.']\n",
      "['Others', 'rate', 'a', 'movie', 'on', 'more', 'important', 'bases', ',', 'like', 'being', 'entertained', ',', 'which', 'is', 'why', 'most', 'people', 'never', 'agree', 'with', 'the', 'critics', '.']\n",
      "['We', 'enjoyed', 'the', 'effort', 'Mr.', 'Hines', 'put', 'into', 'being', 'faithful', 'to', 'H.G.', 'Wells', \"'\", 'classic', 'novel', ',', 'and', 'we', 'found', 'it', 'to', 'be', 'very', 'entertaining', '.']\n",
      "['This', 'made', 'it', 'easy', 'to', 'overlook', 'what', 'the', 'critics', 'perceive', 'to', 'be', 'its', 'shortcomings', '.']\n"
     ]
    }
   ],
   "source": [
    "for wList in sentList:\n",
    "    print(wList)"
   ]
  },
  {
   "cell_type": "markdown",
   "metadata": {},
   "source": [
    "# POS Tagging\n",
    "\n",
    " The process of assigning Part of speech Tag to each word in a text. example noun, verb, adjective etc.<br>\n",
    " Can be used for varity of tasks such as relation extraction, topic detection etc."
   ]
  },
  {
   "cell_type": "code",
   "execution_count": 78,
   "metadata": {},
   "outputs": [
    {
     "name": "stdout",
     "output_type": "stream",
     "text": [
      "The DET DT\n",
      "Classic PROPN NNP\n",
      "War PROPN NNP\n",
      "of ADP IN\n",
      "the DET DT\n",
      "Worlds PROPN NNPS\n",
      "by ADP IN\n",
      "Timothy PROPN NNP\n",
      "Hines PROPN NNP\n",
      "is VERB VBZ\n",
      "a DET DT\n",
      "very ADV RB\n",
      "entertaining ADJ JJ\n",
      "film NOUN NN\n",
      "that ADJ WDT\n",
      "obviously ADV RB\n",
      "goes VERB VBZ\n",
      "to ADP IN\n",
      "great ADJ JJ\n",
      "effort NOUN NN\n",
      "and CCONJ CC\n",
      "lengths NOUN NNS\n",
      "to PART TO\n",
      "faithfully ADV RB\n",
      "recreate VERB VB\n",
      "H. PROPN NNP\n",
      "G. PROPN NNP\n",
      "Wells PROPN NNP\n",
      "' PART POS\n",
      "classic ADJ JJ\n",
      "book NOUN NN\n",
      ". PUNCT .\n"
     ]
    }
   ],
   "source": [
    "firstSent=next(doc.sents)\n",
    "for token in firstSent:\n",
    "    print(token.text, token.pos_, token.tag_)"
   ]
  },
  {
   "cell_type": "markdown",
   "metadata": {},
   "source": [
    "# Named Entitiy Recognition\n",
    "\n",
    "Dual task of identifying key terms or entities present in the text and the label associated with these entities."
   ]
  },
  {
   "cell_type": "code",
   "execution_count": 81,
   "metadata": {},
   "outputs": [
    {
     "name": "stdout",
     "output_type": "stream",
     "text": [
      "The Classic War 0 15 EVENT\n",
      "Worlds 23 29 PERSON\n",
      "Timothy Hines 33 46 PERSON\n",
      "H. G. Wells 146 157 PERSON\n",
      "Hines 177 182 PERSON\n",
      "Hollywood 311 320 GPE\n",
      "every year 341 351 DATE\n",
      "Spielberg 362 371 PERSON\n",
      "Tom Cruise 385 395 PERSON\n",
      "Hines 750 755 PERSON\n",
      "H.G. Wells' 783 794 PERSON\n"
     ]
    }
   ],
   "source": [
    "for ent in doc.ents:\n",
    "    print(ent.text, ent.start_char, ent.end_char, ent.label_)"
   ]
  },
  {
   "cell_type": "code",
   "execution_count": null,
   "metadata": {},
   "outputs": [],
   "source": []
  }
 ],
 "metadata": {
  "kernelspec": {
   "display_name": "Python 3",
   "language": "python",
   "name": "python3"
  },
  "language_info": {
   "codemirror_mode": {
    "name": "ipython",
    "version": 3
   },
   "file_extension": ".py",
   "mimetype": "text/x-python",
   "name": "python",
   "nbconvert_exporter": "python",
   "pygments_lexer": "ipython3",
   "version": "3.6.5"
  }
 },
 "nbformat": 4,
 "nbformat_minor": 2
}
